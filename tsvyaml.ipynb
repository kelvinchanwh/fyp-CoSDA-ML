{
 "metadata": {
  "language_info": {
   "codemirror_mode": {
    "name": "ipython",
    "version": 3
   },
   "file_extension": ".py",
   "mimetype": "text/x-python",
   "name": "python",
   "nbconvert_exporter": "python",
   "pygments_lexer": "ipython3",
   "version": "3.6.9"
  },
  "orig_nbformat": 2,
  "kernelspec": {
   "name": "python369jvsc74a57bd010906f99abdb2d47422d832a72db163f6a06805f81be5ee190e8b6e9460a0a90",
   "display_name": "Python 3.6.9 64-bit ('rasa': conda)"
  },
  "metadata": {
   "interpreter": {
    "hash": "10906f99abdb2d47422d832a72db163f6a06805f81be5ee190e8b6e9460a0a90"
   }
  }
 },
 "nbformat": 4,
 "nbformat_minor": 2,
 "cells": [
  {
   "cell_type": "code",
   "execution_count": 47,
   "metadata": {},
   "outputs": [],
   "source": [
    "import pandas as pd"
   ]
  },
  {
   "cell_type": "code",
   "execution_count": 48,
   "metadata": {},
   "outputs": [],
   "source": [
    "df = pd.read_csv(\"/Users/kelvinchanwh/Documents/GitHub/FYP2/CoSDA-ML/rasa/covid_release/es/train.tsv\", delimiter=\"\\t\", header=None, encoding=\"utf-8\")"
   ]
  },
  {
   "cell_type": "code",
   "execution_count": 49,
   "metadata": {},
   "outputs": [],
   "source": [
    "with open (\"/Users/kelvinchanwh/Documents/GitHub/FYP2/CoSDA-ML/rasa/covid_release/es/train.yaml\", \"w\") as outputFile:\n",
    "    outputFile.write('version: \"2.0\"\\n\\nnlu:\\n')\n",
    "    for intent in df[1].unique():\n",
    "        intent_spaced=\": \".join(intent.split(\":\"))\n",
    "        outputFile.write(\"\\n- %s\\n  examples: |\\n\"%intent_spaced)\n",
    "        for sentence in df[df[1]==intent][0]:\n",
    "            outputFile.write(\"    - %s\\n\"%sentence.encode('utf-8').strip())\n"
   ]
  },
  {
   "cell_type": "code",
   "execution_count": null,
   "metadata": {},
   "outputs": [],
   "source": []
  }
 ]
}